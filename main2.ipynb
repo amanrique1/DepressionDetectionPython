{
 "metadata": {
  "language_info": {
   "codemirror_mode": {
    "name": "ipython",
    "version": 3
   },
   "file_extension": ".py",
   "mimetype": "text/x-python",
   "name": "python",
   "nbconvert_exporter": "python",
   "pygments_lexer": "ipython3",
   "version": "3.9.2-final"
  },
  "orig_nbformat": 2,
  "kernelspec": {
   "name": "python3",
   "display_name": "Python 3.9.2 64-bit ('NLP-NLTK': conda)",
   "metadata": {
    "interpreter": {
     "hash": "dcc51efed7b8b9bd6c41963802fdb244a148df87847a28b9df1fd5a11064ab1d"
    }
   }
  }
 },
 "nbformat": 4,
 "nbformat_minor": 2,
 "cells": [
  {
   "source": [
    "import nltk\n",
    "import csv\n",
    "from sklearn import preprocessing\n",
    "from nltk.sentiment import SentimentIntensityAnalyzer\n",
    "from sklearn.neighbors import KNeighborsClassifier\n",
    "from sklearn.naive_bayes import ( BernoulliNB,ComplementNB,MultinomialNB)\n",
    "from sklearn.tree import DecisionTreeClassifier\n",
    "from sklearn.ensemble import RandomForestClassifier, AdaBoostClassifier\n",
    "from sklearn.linear_model import LogisticRegression\n",
    "from sklearn.neural_network import MLPClassifier\n",
    "from sklearn.discriminant_analysis import QuadraticDiscriminantAnalysis\n",
    "from sklearn import metrics\n",
    "\n",
    "nltk.download([\"names\",\"stopwords\",\"averaged_perceptron_tagger\",\"vader_lexicon\",\"punkt\"])"
   ],
   "cell_type": "code",
   "metadata": {},
   "execution_count": null,
   "outputs": []
  },
  {
   "cell_type": "code",
   "execution_count": null,
   "metadata": {
    "tags": []
   },
   "outputs": [],
   "source": [
    "tweets = []\n",
    "testTweets = []\n",
    "#Data understanding & reading\n",
    "with open('dreaddit-train.csv',encoding='utf-8') as csv_file:\n",
    "    csv_reader = csv.reader(csv_file, delimiter=',')\n",
    "    line_count = 0\n",
    "    for row in csv_reader:\n",
    "        if line_count != 0:\n",
    "            tweets.append([row[0],row[3],row[5]])\n",
    "        line_count += 1\n",
    "    print(f'Processed {line_count} lines for training.')\n",
    "with open('dreaddit-test.csv',encoding='utf-8') as csv_file:\n",
    "    csv_reader = csv.reader(csv_file, delimiter=',')\n",
    "    line_count = 0\n",
    "    for row in csv_reader:\n",
    "        if line_count != 0:\n",
    "            testTweets.append([row[1],row[4],row[5]])\n",
    "        line_count += 1\n",
    "    print(f'Processed {line_count} lines for testing.')"
   ]
  },
  {
   "cell_type": "code",
   "execution_count": null,
   "metadata": {},
   "outputs": [],
   "source": [
    "i = 0\n",
    "added = 0\n",
    "subreddits = {}\n",
    "sia = SentimentIntensityAnalyzer()\n",
    "numericElements = []\n",
    "numericElements2 = []\n",
    "labels = []\n",
    "for tweet in tweets:\n",
    "    polarity = sia.polarity_scores(tweet[1])\n",
    "    if tweet[0] not in subreddits:\n",
    "        subreddits[tweet[0]] = added\n",
    "        added = added + 1\n",
    "    numericElements.append([polarity[\"compound\"]])\n",
    "    #del(polarity[\"compound\"])\n",
    "    numericElements2.append({\"compound\":polarity[\"compound\"]})\n",
    "    i = i + 1\n",
    "    labels.append(tweet[2])\n",
    "print(numericElements[0])\n",
    "print(subreddits)\n",
    "print(numericElements2[0])"
   ]
  },
  {
   "cell_type": "code",
   "execution_count": null,
   "metadata": {},
   "outputs": [],
   "source": [
    "numericElementsTest = []\n",
    "numericElementsTest2 = []\n",
    "labelsTest = []\n",
    "for tweet in testTweets:\n",
    "    polarity = sia.polarity_scores(tweet[1])\n",
    "    numericElementsTest.append([polarity[\"compound\"]])\n",
    "    labelsTest.append(tweet[2])\n",
    "    #del(polarity[\"compound\"])\n",
    "    numericElementsTest2.append({\"compound\":polarity[\"compound\"]})\n",
    "print(numericElementsTest[0])"
   ]
  },
  {
   "cell_type": "code",
   "execution_count": null,
   "metadata": {},
   "outputs": [],
   "source": [
    "model = KNeighborsClassifier(n_neighbors=23)\n",
    "scaler = preprocessing.MinMaxScaler()\n",
    "scaled_values = scaler.fit_transform(numericElements) \n",
    "model.fit(scaled_values,labels)\n",
    "scaled_values_test = scaler.fit_transform(numericElementsTest) \n",
    "y_test = model.predict(scaled_values_test)\n",
    "print(\"Accuracy:\",metrics.accuracy_score(y_test, labelsTest))"
   ]
  },
  {
   "cell_type": "code",
   "execution_count": null,
   "metadata": {
    "tags": []
   },
   "outputs": [],
   "source": [
    "i = 0\n",
    "for tweet in tweets:\n",
    "    catDictionary = {}\n",
    "    for cat in subreddits.keys():\n",
    "        sameCat = cat == tweet[0]\n",
    "        if sameCat:\n",
    "            numericElements[i].append(1)\n",
    "            catDictionary[cat] = 1\n",
    "        else :\n",
    "            numericElements[i].append(0)\n",
    "            catDictionary[cat] = 0\n",
    "    numericElements2[i] = (dict(catDictionary, **numericElements2[i]),tweet[2])\n",
    "    i = i + 1\n",
    "print(numericElements[0])"
   ]
  },
  {
   "cell_type": "code",
   "execution_count": null,
   "metadata": {},
   "outputs": [],
   "source": [
    "i = 0\n",
    "for tweet in testTweets:\n",
    "    catDictionary = {}\n",
    "    for cat in subreddits.keys():\n",
    "        sameCat = cat == tweet[0]\n",
    "        if sameCat:\n",
    "            numericElementsTest[i].append(1)\n",
    "            catDictionary[cat] = 1\n",
    "        else :\n",
    "            numericElementsTest[i].append(0)\n",
    "            catDictionary[cat] = 0\n",
    "    numericElementsTest2[i] = (dict(catDictionary,**numericElementsTest2[i]),tweet[2])\n",
    "    i = i + 1\n",
    "print(numericElementsTest[0])"
   ]
  },
  {
   "cell_type": "code",
   "execution_count": null,
   "metadata": {},
   "outputs": [],
   "source": [
    "model = KNeighborsClassifier(n_neighbors=23)\n",
    "scaler = preprocessing.MinMaxScaler()\n",
    "scaled_values = scaler.fit_transform(numericElements) \n",
    "model.fit(scaled_values,labels)"
   ]
  },
  {
   "cell_type": "code",
   "execution_count": null,
   "metadata": {},
   "outputs": [],
   "source": [
    "scaled_values_test = scaler.fit_transform(numericElementsTest) \n",
    "y_test = model.predict(scaled_values_test)\n",
    "print(\"Accuracy:\",metrics.accuracy_score(y_test, labelsTest))"
   ]
  },
  {
   "cell_type": "code",
   "execution_count": null,
   "metadata": {},
   "outputs": [],
   "source": [
    "classifiers = {\n",
    "    \"BernoulliNB\": BernoulliNB(),\n",
    "    \"KNeighborsClassifier\": KNeighborsClassifier(),\n",
    "    \"DecisionTreeClassifier\": DecisionTreeClassifier(),\n",
    "    \"RandomForestClassifier\": RandomForestClassifier(),\n",
    "    \"LogisticRegression\": LogisticRegression(),\n",
    "    \"MLPClassifier\": MLPClassifier(max_iter=1000),\n",
    "    \"AdaBoostClassifier\": AdaBoostClassifier(),\n",
    "}\n",
    "for name, sklearn_classifier in classifiers.items():\n",
    "    classifier = nltk.classify.SklearnClassifier(sklearn_classifier)\n",
    "    classifier.train(numericElements2)\n",
    "    accuracy = nltk.classify.accuracy(classifier, numericElementsTest2)\n",
    "    print(F\"{accuracy:.2%} - {name}\")"
   ]
  }
 ]
}