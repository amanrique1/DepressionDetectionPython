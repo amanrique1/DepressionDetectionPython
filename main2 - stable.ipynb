{
 "metadata": {
  "language_info": {
   "codemirror_mode": {
    "name": "ipython",
    "version": 3
   },
   "file_extension": ".py",
   "mimetype": "text/x-python",
   "name": "python",
   "nbconvert_exporter": "python",
   "pygments_lexer": "ipython3",
   "version": "3.7.6-final"
  },
  "orig_nbformat": 2,
  "kernelspec": {
   "name": "python3",
   "display_name": "Python 3",
   "language": "python"
  }
 },
 "nbformat": 4,
 "nbformat_minor": 2,
 "cells": [
  {
   "source": [
    "import nltk\n",
    "import csv\n",
    "from nltk.sentiment import SentimentIntensityAnalyzer\n",
    "from sklearn.neighbors import KNeighborsClassifier\n",
    "from sklearn.naive_bayes import ( BernoulliNB,ComplementNB,MultinomialNB)\n",
    "from sklearn.tree import DecisionTreeClassifier\n",
    "from sklearn.ensemble import RandomForestClassifier, AdaBoostClassifier\n",
    "from sklearn.linear_model import LogisticRegression\n",
    "from sklearn.neural_network import MLPClassifier\n",
    "from sklearn.discriminant_analysis import QuadraticDiscriminantAnalysis\n",
    "from sklearn import metrics\n",
    "\n",
    "nltk.download([\"names\",\"stopwords\",\"averaged_perceptron_tagger\",\"vader_lexicon\",\"punkt\"])"
   ],
   "cell_type": "code",
   "metadata": {},
   "execution_count": 48,
   "outputs": [
    {
     "output_type": "stream",
     "name": "stderr",
     "text": [
      "[nltk_data] Downloading package names to C:\\Users\\MSI\n[nltk_data]     GP63\\AppData\\Roaming\\nltk_data...\n[nltk_data]   Package names is already up-to-date!\n[nltk_data] Downloading package stopwords to C:\\Users\\MSI\n[nltk_data]     GP63\\AppData\\Roaming\\nltk_data...\n[nltk_data]   Package stopwords is already up-to-date!\n[nltk_data] Downloading package averaged_perceptron_tagger to\n[nltk_data]     C:\\Users\\MSI GP63\\AppData\\Roaming\\nltk_data...\n[nltk_data]   Package averaged_perceptron_tagger is already up-to-\n[nltk_data]       date!\n[nltk_data] Downloading package vader_lexicon to C:\\Users\\MSI\n[nltk_data]     GP63\\AppData\\Roaming\\nltk_data...\n[nltk_data]   Package vader_lexicon is already up-to-date!\n[nltk_data] Downloading package punkt to C:\\Users\\MSI\n[nltk_data]     GP63\\AppData\\Roaming\\nltk_data...\n[nltk_data]   Package punkt is already up-to-date!\n"
     ]
    },
    {
     "output_type": "execute_result",
     "data": {
      "text/plain": [
       "True"
      ]
     },
     "metadata": {},
     "execution_count": 48
    }
   ]
  },
  {
   "cell_type": "code",
   "execution_count": 49,
   "metadata": {
    "tags": []
   },
   "outputs": [
    {
     "output_type": "stream",
     "name": "stdout",
     "text": [
      "Processed 2839 lines for training.\nProcessed 716 lines for testing.\n"
     ]
    }
   ],
   "source": [
    "tweets = []\n",
    "testTweets = []\n",
    "#Data understanding & reading\n",
    "with open('dreaddit-train.csv',encoding='utf-8') as csv_file:\n",
    "    csv_reader = csv.reader(csv_file, delimiter=',')\n",
    "    line_count = 0\n",
    "    for row in csv_reader:\n",
    "        if line_count != 0:\n",
    "            tweets.append([row[0],row[3],row[5]])\n",
    "        line_count += 1\n",
    "    print(f'Processed {line_count} lines for training.')\n",
    "with open('dreaddit-test.csv',encoding='utf-8') as csv_file:\n",
    "    csv_reader = csv.reader(csv_file, delimiter=',')\n",
    "    line_count = 0\n",
    "    for row in csv_reader:\n",
    "        if line_count != 0:\n",
    "            testTweets.append([row[1],row[4],row[5]])\n",
    "        line_count += 1\n",
    "    print(f'Processed {line_count} lines for testing.')"
   ]
  },
  {
   "cell_type": "code",
   "execution_count": 41,
   "metadata": {},
   "outputs": [
    {
     "output_type": "stream",
     "name": "stdout",
     "text": [
      "[0.176, 0.093, 0.731, -0.8551]\n{'ptsd': 0, 'assistance': 1, 'relationships': 2, 'survivorsofabuse': 3, 'domesticviolence': 4, 'anxiety': 5, 'homeless': 6, 'stress': 7, 'almosthomeless': 8, 'food_pantry': 9}\n{'neg': 0.176, 'neu': 0.731, 'pos': 0.093}\n"
     ]
    }
   ],
   "source": [
    "i = 0\n",
    "added = 0\n",
    "subreddits = {}\n",
    "sia = SentimentIntensityAnalyzer()\n",
    "numericElements = []\n",
    "numericElements2 = []\n",
    "labels = []\n",
    "for tweet in tweets:\n",
    "    polarity = sia.polarity_scores(tweet[1])\n",
    "    if tweet[0] not in subreddits:\n",
    "        subreddits[tweet[0]] = added\n",
    "        added = added + 1\n",
    "    numericElements.append([polarity[\"neg\"],polarity[\"pos\"],polarity[\"neu\"],polarity[\"compound\"]])\n",
    "    del(polarity[\"compound\"])\n",
    "    numericElements2.append(polarity)\n",
    "    i = i + 1\n",
    "    labels.append(tweet[2])\n",
    "print(numericElements[0])\n",
    "print(subreddits)\n",
    "print(numericElements2[0])"
   ]
  },
  {
   "cell_type": "code",
   "execution_count": 50,
   "metadata": {},
   "outputs": [
    {
     "output_type": "stream",
     "name": "stdout",
     "text": [
      "[0.078, 0.186, 0.736, 0.6908]\n"
     ]
    }
   ],
   "source": [
    "numericElementsTest = []\n",
    "numericElementsTest2 = []\n",
    "labelsTest = []\n",
    "for tweet in testTweets:\n",
    "    polarity = sia.polarity_scores(tweet[1])\n",
    "    numericElementsTest.append([polarity[\"neg\"],polarity[\"pos\"],polarity[\"neu\"],polarity[\"compound\"]])\n",
    "    labelsTest.append(tweet[2])\n",
    "    del(polarity[\"compound\"])\n",
    "    numericElementsTest2.append(polarity)\n",
    "print(numericElementsTest[0])"
   ]
  },
  {
   "cell_type": "code",
   "execution_count": null,
   "metadata": {
    "tags": []
   },
   "outputs": [],
   "source": [
    "i = 0\n",
    "for tweet in tweets:\n",
    "    catDictionary = {}\n",
    "    for cat in subreddits.keys():\n",
    "        sameCat = cat == tweet[0]\n",
    "        if sameCat:\n",
    "            numericElements[i].append(1)\n",
    "            catDictionary[cat] = 1\n",
    "        else :\n",
    "            numericElements[i].append(0)\n",
    "            catDictionary[cat] = 0\n",
    "    numericElements2[i] = (dict(catDictionary, **numericElements2[i]),tweet[2])\n",
    "    i = i + 1\n",
    "print(numericElements[0])\n",
    "print(numericElements2[0])"
   ]
  },
  {
   "cell_type": "code",
   "execution_count": 51,
   "metadata": {},
   "outputs": [
    {
     "output_type": "stream",
     "name": "stdout",
     "text": [
      "[0.078, 0.186, 0.736, 0.6908, 0, 0, 1, 0, 0, 0, 0, 0, 0, 0]\n"
     ]
    }
   ],
   "source": [
    "i = 0\n",
    "for tweet in testTweets:\n",
    "    catDictionary = {}\n",
    "    for cat in subreddits.keys():\n",
    "        sameCat = cat == tweet[0]\n",
    "        if sameCat:\n",
    "            numericElementsTest[i].append(1)\n",
    "            catDictionary[cat] = 1\n",
    "        else :\n",
    "            numericElementsTest[i].append(0)\n",
    "            catDictionary[cat] = 0\n",
    "    numericElementsTest2[i] = (dict(catDictionary,**numericElementsTest2[i]),tweet[2])\n",
    "    i = i + 1\n",
    "print(numericElementsTest[0])"
   ]
  },
  {
   "cell_type": "code",
   "execution_count": 64,
   "metadata": {},
   "outputs": [
    {
     "output_type": "execute_result",
     "data": {
      "text/plain": [
       "KNeighborsClassifier(algorithm='kd_tree', leaf_size=30, metric='minkowski',\n",
       "                     metric_params=None, n_jobs=None, n_neighbors=23, p=2,\n",
       "                     weights='uniform')"
      ]
     },
     "metadata": {},
     "execution_count": 64
    }
   ],
   "source": [
    "model = KNeighborsClassifier(n_neighbors=23, algorithm = 'brute')\n",
    "model.fit(numericElements,labels)"
   ]
  },
  {
   "cell_type": "code",
   "execution_count": 67,
   "metadata": {},
   "outputs": [
    {
     "output_type": "stream",
     "name": "stdout",
     "text": [
      "Accuracy: 0.71\nPrecision: 0.75\nRecall: 0.70\n"
     ]
    }
   ],
   "source": [
    "y_test = model.predict(numericElementsTest)\n",
    "accuracy = metrics.accuracy_score(y_test, labelsTest)\n",
    "precision = metrics.precision_score(y_test, labelsTest, pos_label='1')\n",
    "recall = metrics.recall_score(y_test, labelsTest, pos_label='1')\n",
    "print(F\"Accuracy: {accuracy:.2f}\")\n",
    "print(F\"Precision: {precision:.2f}\")\n",
    "print(F\"Recall: {recall:.2f}\")"
   ]
  },
  {
   "cell_type": "code",
   "execution_count": 55,
   "metadata": {},
   "outputs": [
    {
     "output_type": "stream",
     "name": "stdout",
     "text": [
      "62.66% - BernoulliNB\n",
      "69.65% - KNeighborsClassifier\n",
      "62.52% - DecisionTreeClassifier\n",
      "65.87% - RandomForestClassifier\n",
      "69.79% - LogisticRegression\n",
      "70.35% - MLPClassifier\n",
      "70.21% - AdaBoostClassifier\n"
     ]
    }
   ],
   "source": [
    "classifiers = {\n",
    "    \"BernoulliNB\": BernoulliNB(),\n",
    "    \"KNeighborsClassifier\": KNeighborsClassifier(n_neighbors=23),\n",
    "    \"DecisionTreeClassifier\": DecisionTreeClassifier(),\n",
    "    \"RandomForestClassifier\": RandomForestClassifier(),\n",
    "    \"LogisticRegression\": LogisticRegression(),\n",
    "    \"MLPClassifier\": MLPClassifier(max_iter=1000),\n",
    "    \"AdaBoostClassifier\": AdaBoostClassifier(),\n",
    "}\n",
    "for name, sklearn_classifier in classifiers.items():\n",
    "    classifier = nltk.classify.SklearnClassifier(sklearn_classifier)\n",
    "    classifier.train(numericElements2)\n",
    "    accuracy = nltk.classify.accuracy(classifier, numericElementsTest2)\n",
    "    print(F\"{accuracy:.2%} - {name}\")"
   ]
  },
  {
   "cell_type": "code",
   "execution_count": null,
   "metadata": {},
   "outputs": [],
   "source": []
  }
 ]
}